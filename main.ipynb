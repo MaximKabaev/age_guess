{
 "cells": [
  {
   "cell_type": "markdown",
   "source": [
    "Importing"
   ],
   "metadata": {
    "collapsed": false
   }
  },
  {
   "cell_type": "code",
   "execution_count": 73,
   "outputs": [],
   "source": [
    "import numpy as np\n",
    "import tensorflow as tf"
   ],
   "metadata": {
    "collapsed": false
   }
  },
  {
   "cell_type": "markdown",
   "source": [
    "Creating the samples"
   ],
   "metadata": {
    "collapsed": false
   }
  },
  {
   "cell_type": "code",
   "execution_count": 76,
   "outputs": [
    {
     "name": "stdout",
     "output_type": "stream",
     "text": [
      "[[13]\n",
      " [84]\n",
      " [41]\n",
      " ...\n",
      " [73]\n",
      " [ 2]\n",
      " [55]] [13 84 41 ... 73  2 55]\n"
     ]
    }
   ],
   "source": [
    "X_train = np.random.randint(0, 90, (100000, 1))\n",
    "y_train = X_train.flatten()\n",
    "\n",
    "X_test = np.random.randint(0, 90, (100000, 1))\n",
    "y_test = X_test.flatten()\n",
    "\n",
    "print(X_train, y_train)"
   ],
   "metadata": {
    "collapsed": false
   }
  },
  {
   "cell_type": "markdown",
   "source": [
    "Creating the model"
   ],
   "metadata": {
    "collapsed": false
   }
  },
  {
   "cell_type": "code",
   "execution_count": 77,
   "outputs": [
    {
     "name": "stdout",
     "output_type": "stream",
     "text": [
      "Epoch 1/10\n",
      "3125/3125 [==============================] - 40s 12ms/step - loss: 2.1669 - accuracy: 0.3488\n",
      "Epoch 2/10\n",
      "3125/3125 [==============================] - 39s 13ms/step - loss: 0.9778 - accuracy: 0.7330\n",
      "Epoch 3/10\n",
      "3125/3125 [==============================] - 38s 12ms/step - loss: 0.6108 - accuracy: 0.8501\n",
      "Epoch 4/10\n",
      "3125/3125 [==============================] - 38s 12ms/step - loss: 0.4518 - accuracy: 0.8939\n",
      "Epoch 5/10\n",
      "3125/3125 [==============================] - 38s 12ms/step - loss: 0.3781 - accuracy: 0.9161\n",
      "Epoch 6/10\n",
      "3125/3125 [==============================] - 38s 12ms/step - loss: 0.3289 - accuracy: 0.9363\n",
      "Epoch 7/10\n",
      "3125/3125 [==============================] - 38s 12ms/step - loss: 0.3111 - accuracy: 0.9290\n",
      "Epoch 8/10\n",
      "3125/3125 [==============================] - 38s 12ms/step - loss: 0.3134 - accuracy: 0.9252\n",
      "Epoch 9/10\n",
      "3125/3125 [==============================] - 38s 12ms/step - loss: 0.2780 - accuracy: 0.9410\n",
      "Epoch 10/10\n",
      "3125/3125 [==============================] - 38s 12ms/step - loss: 0.2449 - accuracy: 0.9399\n",
      "3125/3125 [==============================] - 22s 7ms/step - loss: 0.0845 - accuracy: 1.0000\n",
      "[0.08448299765586853, 1.0]\n"
     ]
    }
   ],
   "source": [
    "model = tf.keras.models.Sequential([tf.keras.layers.Flatten(input_shape=(1, 1)),\n",
    "                                    tf.keras.layers.Dense(1024, activation='sigmoid'),\n",
    "                                    tf.keras.layers.Dense(512, activation='sigmoid'),\n",
    "                                    tf.keras.layers.Dense(256, activation='sigmoid'),\n",
    "                                    tf.keras.layers.Dense(128, activation='sigmoid'),\n",
    "                                    tf.keras.layers.Dense(91, activation=tf.nn.softmax)])\n",
    "model.compile(optimizer=tf.optimizers.Adam(),\n",
    "              loss='sparse_categorical_crossentropy',\n",
    "              metrics=['accuracy'])\n",
    "model.fit(X_train, y_train, epochs=10)\n",
    "\n",
    "print(model.evaluate(X_test, y_test))"
   ],
   "metadata": {
    "collapsed": false
   }
  },
  {
   "cell_type": "markdown",
   "source": [
    "Predictions"
   ],
   "metadata": {
    "collapsed": false
   }
  },
  {
   "cell_type": "code",
   "execution_count": 78,
   "outputs": [
    {
     "name": "stdout",
     "output_type": "stream",
     "text": [
      "3125/3125 [==============================] - 20s 6ms/step\n",
      "[[21]\n",
      " [33]\n",
      " [39]\n",
      " ...\n",
      " [64]\n",
      " [70]\n",
      " [ 8]] Y predicted [[21. 21. 21. ... 21. 21. 21.]\n",
      " [33. 33. 33. ... 33. 33. 33.]\n",
      " [39. 39. 39. ... 39. 39. 39.]\n",
      " ...\n",
      " [64. 64. 64. ... 64. 64. 64.]\n",
      " [70. 70. 70. ... 70. 70. 70.]\n",
      " [ 8.  8.  8. ...  8.  8.  8.]]\n"
     ]
    }
   ],
   "source": [
    "y_predicted = model.predict(X_test)\n",
    "for i in range(len(y_predicted)):\n",
    "    y_predicted[i]=np.argmax(y_predicted[i])\n",
    "print(X_test, 'Y predicted', y_predicted)\n"
   ],
   "metadata": {
    "collapsed": false
   }
  },
  {
   "cell_type": "markdown",
   "source": [
    "Accuracy"
   ],
   "metadata": {
    "collapsed": false
   }
  },
  {
   "cell_type": "code",
   "execution_count": 80,
   "outputs": [
    {
     "name": "stdout",
     "output_type": "stream",
     "text": [
      "[21 33 39 ... 64 70  8] 0\n"
     ]
    }
   ],
   "source": [
    "# accuracy_score(y_test, y_predicted)\n",
    "\n",
    "print(y_test, np.argmax(y_predicted[0]))"
   ],
   "metadata": {
    "collapsed": false
   }
  },
  {
   "cell_type": "markdown",
   "source": [
    "User"
   ],
   "metadata": {
    "collapsed": false
   }
  },
  {
   "cell_type": "code",
   "execution_count": 94,
   "outputs": [
    {
     "name": "stdout",
     "output_type": "stream",
     "text": [
      "1/1 [==============================] - 0s 48ms/step\n",
      "49 49\n"
     ]
    }
   ],
   "source": [
    "user_age = int(input(\"Enter your age: \"))\n",
    "\n",
    "y_user_predicted = model.predict([user_age])\n",
    "\n",
    "print(user_age, np.argmax(y_user_predicted[0]))\n"
   ],
   "metadata": {
    "collapsed": false
   }
  }
 ],
 "metadata": {
  "kernelspec": {
   "display_name": "Python 3",
   "language": "python",
   "name": "python3"
  },
  "language_info": {
   "codemirror_mode": {
    "name": "ipython",
    "version": 2
   },
   "file_extension": ".py",
   "mimetype": "text/x-python",
   "name": "python",
   "nbconvert_exporter": "python",
   "pygments_lexer": "ipython2",
   "version": "2.7.6"
  }
 },
 "nbformat": 4,
 "nbformat_minor": 0
}
